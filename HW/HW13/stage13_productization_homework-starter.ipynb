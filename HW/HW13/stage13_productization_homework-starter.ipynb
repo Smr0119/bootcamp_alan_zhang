{
 "cells": [
  {
   "cell_type": "markdown",
   "metadata": {},
   "source": [
    "# Stage 13 Homework Starter — Productization\n",
    "\n",
    "## Objective\n",
    "Deploy your trained model as a **reusable, handoff-ready API or dashboard** and finalize your project for reproducibility and clarity."
   ]
  },
  {
   "cell_type": "markdown",
   "metadata": {},
   "source": [
    "## Steps\n",
    "1. Create a mock, very basic analysis in a notebook.\n",
    "2. Clean your notebook by removing exploratory cells and documenting your code.\n",
    "3. Move reusable functions into `/src/`.\n",
    "4. Load your trained model from Stage 12 or earlier stages.\n",
    "5. Pickle/save the model and test reload.\n",
    "6. Implement **either**:\n",
    "   - Flask API with `/predict` endpoint and optional parameters\n",
    "   - Streamlit or Dash dashboard for user interaction\n",
    "7. Include:\n",
    "   - Error handling for invalid inputs\n",
    "   - `requirements.txt` for reproducibility\n",
    "   - Documentation in `README.md`\n",
    "8. Test your deployment locally and provide evidence.\n",
    "9. Organize project folders and finalize notebooks for handoff."
   ]
  },
  {
   "cell_type": "markdown",
   "metadata": {},
   "source": [
    "## 1. Create mock, very basic analysis"
   ]
  },
  {
   "cell_type": "code",
   "execution_count": 1,
   "metadata": {},
   "outputs": [
    {
     "name": "stdout",
     "output_type": "stream",
     "text": [
      "Basic analysis complete.\n",
      "Model score: 0.998\n"
     ]
    }
   ],
   "source": [
    "import pandas as pd\n",
    "import numpy as np\n",
    "from sklearn.linear_model import LinearRegression\n",
    "from sklearn.model_selection import train_test_split\n",
    "import os\n",
    "\n",
    "np.random.seed(42)\n",
    "X = np.random.randn(100, 2)\n",
    "y = X[:, 0] + 2 * X[:, 1] + np.random.randn(100) * 0.1\n",
    "\n",
    "X_train, X_test, y_train, y_test = train_test_split(X, y, test_size=0.2)\n",
    "model = LinearRegression().fit(X_train, y_train)\n",
    "\n",
    "print(\"Basic analysis complete.\")\n",
    "print(f\"Model score: {model.score(X_test, y_test):.3f}\")"
   ]
  },
  {
   "cell_type": "markdown",
   "metadata": {},
   "source": [
    "## 2. Notebook Cleanup\n",
    "Remove exploratory cells and document your code."
   ]
  },
  {
   "cell_type": "code",
   "execution_count": 2,
   "metadata": {},
   "outputs": [
    {
     "name": "stdout",
     "output_type": "stream",
     "text": [
      "Notebook cleaned and ready for handoff.\n",
      "All exploratory code removed, only final analysis remains.\n"
     ]
    }
   ],
   "source": [
    "print(\"Notebook cleaned and ready for handoff.\")\n",
    "print(\"All exploratory code removed, only final analysis remains.\")"
   ]
  },
  {
   "cell_type": "markdown",
   "metadata": {},
   "source": [
    "## 3. Move reusable functions to /src/\n",
    "Create src/utils.py and store functions there."
   ]
  },
  {
   "cell_type": "code",
   "execution_count": 3,
   "metadata": {},
   "outputs": [
    {
     "name": "stdout",
     "output_type": "stream",
     "text": [
      "Functions moved to src/utils.py\n"
     ]
    }
   ],
   "source": [
    "os.makedirs('src', exist_ok=True)\n",
    "\n",
    "utils_code = '''import pandas as pd\n",
    "import numpy as np\n",
    "\n",
    "def calculate_metrics(df):\n",
    "    return df.describe()\n",
    "\n",
    "def preprocess_data(X):\n",
    "    return X\n",
    "\n",
    "def validate_input(features):\n",
    "    if not isinstance(features, list) or len(features) != 2:\n",
    "        return False\n",
    "    return all(isinstance(x, (int, float)) for x in features)\n",
    "'''\n",
    "\n",
    "with open('src/utils.py', 'w') as f:\n",
    "    f.write(utils_code)\n",
    "\n",
    "print(\"Functions moved to src/utils.py\")"
   ]
  },
  {
   "cell_type": "markdown",
   "metadata": {},
   "source": [
    "## 4. Folder Structure Reminder\n",
    "\n",
    "Ensure your project uses a clean folder structure:\n",
    "```\n",
    "project/\n",
    "  data/\n",
    "  notebooks/\n",
    "  src/\n",
    "  reports/\n",
    "  model/\n",
    "  README.md\n",
    "```\n",
    "\n",
    "For API/Dashboard: minimal example:\n",
    "```\n",
    "project/\n",
    "    app.py\n",
    "    model.pkl\n",
    "    requirements.txt\n",
    "    README.md\n",
    "```"
   ]
  },
  {
   "cell_type": "markdown",
   "metadata": {},
   "source": [
    "## 5. Pickle / Save Final Model\n",
    "\n",
    "### Save and load model"
   ]
  },
  {
   "cell_type": "code",
   "execution_count": 4,
   "metadata": {},
   "outputs": [
    {
     "name": "stdout",
     "output_type": "stream",
     "text": [
      "Test prediction: 0.508\n"
     ]
    }
   ],
   "source": [
    "import pickle\n",
    "\n",
    "os.makedirs('model', exist_ok=True)\n",
    "\n",
    "with open('model/model.pkl', 'wb') as f:\n",
    "    pickle.dump(model, f)\n",
    "\n",
    "with open('model/model.pkl', 'rb') as f:\n",
    "    loaded_model = pickle.load(f)\n",
    "\n",
    "test_features = [[0.1, 0.2]]\n",
    "prediction = loaded_model.predict(test_features)\n",
    "print(f\"Test prediction: {prediction[0]:.3f}\")"
   ]
  },
  {
   "cell_type": "markdown",
   "metadata": {},
   "source": [
    "## 6. Flask API Starter\n",
    "\n",
    "### Implement Flask endpoints for /predict and /plot"
   ]
  },
  {
   "cell_type": "code",
   "execution_count": 5,
   "metadata": {},
   "outputs": [
    {
     "name": "stdout",
     "output_type": "stream",
     "text": [
      " * Serving Flask app '__main__'\n",
      " * Debug mode: off\n"
     ]
    },
    {
     "name": "stderr",
     "output_type": "stream",
     "text": [
      "WARNING: This is a development server. Do not use it in a production deployment. Use a production WSGI server instead.\n",
      " * Running on http://127.0.0.1:5000\n",
      "Press CTRL+C to quit\n"
     ]
    },
    {
     "name": "stdout",
     "output_type": "stream",
     "text": [
      "Flask API started on port 5000\n"
     ]
    },
    {
     "name": "stderr",
     "output_type": "stream",
     "text": [
      "127.0.0.1 - - [27/Aug/2025 00:56:02] \"POST /predict HTTP/1.1\" 200 -\n",
      "127.0.0.1 - - [27/Aug/2025 00:56:02] \"GET /predict/2.0 HTTP/1.1\" 200 -\n",
      "127.0.0.1 - - [27/Aug/2025 00:56:02] \"GET /predict/1.0/3.0 HTTP/1.1\" 200 -\n",
      "127.0.0.1 - - [27/Aug/2025 00:56:02] \"GET /plot HTTP/1.1\" 200 -\n"
     ]
    }
   ],
   "source": [
    "from flask import Flask, request, jsonify\n",
    "import threading\n",
    "import matplotlib.pyplot as plt\n",
    "import io\n",
    "import base64\n",
    "import time\n",
    "\n",
    "app = Flask(__name__)\n",
    "\n",
    "with open('model/model.pkl', 'rb') as f:\n",
    "    api_model = pickle.load(f)\n",
    "\n",
    "@app.route('/predict', methods=['POST'])\n",
    "def predict():\n",
    "    try:\n",
    "        data = request.get_json()\n",
    "        features = data.get('features', None)\n",
    "        if features is None or len(features) != 2:\n",
    "            return jsonify({'error': 'Need exactly 2 features'}), 400\n",
    "        pred = float(api_model.predict([features])[0])\n",
    "        return jsonify({'prediction': pred})\n",
    "    except Exception as e:\n",
    "        return jsonify({'error': str(e)}), 400\n",
    "\n",
    "@app.route('/predict/<float:input1>', methods=['GET'])\n",
    "def predict_one(input1):\n",
    "    try:\n",
    "        pred = float(api_model.predict([[input1, 0]])[0])\n",
    "        return jsonify({'prediction': pred})\n",
    "    except Exception as e:\n",
    "        return jsonify({'error': str(e)}), 400\n",
    "\n",
    "@app.route('/predict/<float:input1>/<float:input2>', methods=['GET'])\n",
    "def predict_two(input1, input2):\n",
    "    try:\n",
    "        pred = float(api_model.predict([[input1, input2]])[0])\n",
    "        return jsonify({'prediction': pred})\n",
    "    except Exception as e:\n",
    "        return jsonify({'error': str(e)}), 400\n",
    "\n",
    "@app.route('/plot')\n",
    "def plot():\n",
    "    fig, ax = plt.subplots(figsize=(6, 4))\n",
    "    x_vals = np.linspace(-2, 2, 50)\n",
    "    y_vals = api_model.predict([[x, 0] for x in x_vals])\n",
    "    ax.plot(x_vals, y_vals, 'b-', label='Model predictions')\n",
    "    ax.set_xlabel('Input 1')\n",
    "    ax.set_ylabel('Prediction')\n",
    "    ax.legend()\n",
    "    buf = io.BytesIO()\n",
    "    fig.savefig(buf, format='png')\n",
    "    buf.seek(0)\n",
    "    img_bytes = base64.b64encode(buf.read()).decode('utf-8')\n",
    "    plt.close(fig)\n",
    "    return f'<img src=\"data:image/png;base64,{img_bytes}\"/>'\n",
    "\n",
    "def run_flask():\n",
    "    app.run(port=5000, debug=False)\n",
    "\n",
    "flask_thread = threading.Thread(target=run_flask)\n",
    "flask_thread.daemon = True\n",
    "flask_thread.start()\n",
    "time.sleep(2)\n",
    "print(\"Flask API started on port 5000\")"
   ]
  },
  {
   "cell_type": "markdown",
   "metadata": {},
   "source": [
    "## 7. Testing the Flask API from Notebook\n",
    "\n",
    "### Test API endpoints"
   ]
  },
  {
   "cell_type": "code",
   "execution_count": 6,
   "metadata": {},
   "outputs": [
    {
     "name": "stdout",
     "output_type": "stream",
     "text": [
      "POST /predict: {'prediction': 0.5082655170189208}\n",
      "GET /predict/2.0: {'prediction': 2.032556921549671}\n",
      "GET /predict/1.0/3.0: {'prediction': 6.974999550534713}\n"
     ]
    },
    {
     "data": {
      "text/html": [
       "<img src=\"data:image/png;base64,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\"/>"
      ],
      "text/plain": [
       "<IPython.core.display.HTML object>"
      ]
     },
     "metadata": {},
     "output_type": "display_data"
    },
    {
     "name": "stdout",
     "output_type": "stream",
     "text": [
      "Plot endpoint working\n"
     ]
    }
   ],
   "source": [
    "import requests\n",
    "from IPython.display import display, HTML\n",
    "\n",
    "try:\n",
    "    response = requests.post(\n",
    "        'http://127.0.0.1:5000/predict',\n",
    "        json={'features': [0.1, 0.2]},\n",
    "        timeout=5\n",
    "    )\n",
    "    print(\"POST /predict:\", response.json())\n",
    "\n",
    "    response2 = requests.get('http://127.0.0.1:5000/predict/2.0', timeout=5)\n",
    "    print(\"GET /predict/2.0:\", response2.json())\n",
    "\n",
    "    response3 = requests.get('http://127.0.0.1:5000/predict/1.0/3.0', timeout=5)\n",
    "    print(\"GET /predict/1.0/3.0:\", response3.json())\n",
    "\n",
    "    response_plot = requests.get('http://127.0.0.1:5000/plot', timeout=5)\n",
    "    if response_plot.status_code == 200:\n",
    "        display(HTML(response_plot.text))\n",
    "        print(\"Plot endpoint working\")\n",
    "        \n",
    "except Exception as e:\n",
    "    print(f\"API test failed: {e}\")"
   ]
  },
  {
   "cell_type": "markdown",
   "metadata": {},
   "source": [
    "## 8. Optional Streamlit / Dash Dashboard\n",
    "\n",
    "### Add dashboard in a separate file (`app_streamlit.py` or `app_dash.py`)"
   ]
  },
  {
   "cell_type": "code",
   "execution_count": 7,
   "metadata": {},
   "outputs": [
    {
     "name": "stdout",
     "output_type": "stream",
     "text": [
      "Streamlit app created as app_streamlit.py\n",
      "Run with: streamlit run app_streamlit.py\n"
     ]
    }
   ],
   "source": [
    "streamlit_code = '''import streamlit as st\n",
    "import pickle\n",
    "import numpy as np\n",
    "\n",
    "st.title(\"Model Prediction Dashboard\")\n",
    "\n",
    "with open(\"model/model.pkl\", \"rb\") as f:\n",
    "    model = pickle.load(f)\n",
    "\n",
    "input1 = st.number_input(\"Feature 1\", value=0.0)\n",
    "input2 = st.number_input(\"Feature 2\", value=0.0)\n",
    "\n",
    "if st.button(\"Predict\"):\n",
    "    prediction = model.predict([[input1, input2]])[0]\n",
    "    st.write(f\"Prediction: {prediction:.3f}\")\n",
    "'''\n",
    "\n",
    "with open('app_streamlit.py', 'w') as f:\n",
    "    f.write(streamlit_code)\n",
    "\n",
    "print(\"Streamlit app created as app_streamlit.py\")\n",
    "print(\"Run with: streamlit run app_streamlit.py\")"
   ]
  },
  {
   "cell_type": "markdown",
   "metadata": {},
   "source": [
    "## 9. Handoff Best Practices\n",
    "\n",
    "- Ensure README.md is complete and clear\n",
    "- Provide `requirements.txt` for reproducibility\n",
    "- Ensure pickled model and scripts are in correct folders\n",
    "- Verify another user can run the project end-to-end on a fresh environment"
   ]
  },
  {
   "cell_type": "code",
   "execution_count": 8,
   "metadata": {},
   "outputs": [
    {
     "name": "stdout",
     "output_type": "stream",
     "text": [
      "Requirements and README created\n",
      "Project ready for handoff\n"
     ]
    }
   ],
   "source": [
    "requirements = '''flask==2.3.3\n",
    "scikit-learn==1.3.0\n",
    "pandas==2.0.3\n",
    "numpy==1.24.3\n",
    "matplotlib==3.7.1\n",
    "streamlit==1.25.0\n",
    "requests==2.31.0\n",
    "'''\n",
    "\n",
    "with open('requirements.txt', 'w') as f:\n",
    "    f.write(requirements)\n",
    "\n",
    "readme = '''# Model API Project\n",
    "\n",
    "## Setup\n",
    "1. Install requirements: `pip install -r requirements.txt`\n",
    "2. Run Flask API: `python -c \"from stage13_productization_homework_starter import *; run_flask()\"`\n",
    "3. Run Streamlit: `streamlit run app_streamlit.py`\n",
    "\n",
    "## API Endpoints\n",
    "- POST /predict: Send JSON with features\n",
    "- GET /predict/<input1>: Single feature prediction\n",
    "- GET /predict/<input1>/<input2>: Two feature prediction\n",
    "- GET /plot: View model plot\n",
    "\n",
    "## Model\n",
    "Simple linear regression model trained on synthetic data.\n",
    "Takes 2 features and predicts continuous output.\n",
    "'''\n",
    "\n",
    "with open('README.md', 'w') as f:\n",
    "    f.write(readme)\n",
    "\n",
    "print(\"Requirements and README created\")\n",
    "print(\"Project ready for handoff\")"
   ]
  }
 ],
 "metadata": {
  "kernelspec": {
   "display_name": "bootcamp_env",
   "language": "python",
   "name": "python3"
  },
  "language_info": {
   "codemirror_mode": {
    "name": "ipython",
    "version": 3
   },
   "file_extension": ".py",
   "mimetype": "text/x-python",
   "name": "python",
   "nbconvert_exporter": "python",
   "pygments_lexer": "ipython3",
   "version": "3.10.18"
  }
 },
 "nbformat": 4,
 "nbformat_minor": 5
}
