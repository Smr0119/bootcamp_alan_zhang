{
 "cells": [
  {
   "cell_type": "markdown",
   "metadata": {},
   "source": [
    "# HW03: Python Fundamentals"
   ]
  },
  {
   "cell_type": "code",
   "execution_count": 2,
   "metadata": {},
   "outputs": [],
   "source": [
    "import numpy as np\n",
    "import pandas as pd\n",
    "import matplotlib.pyplot as plt\n",
    "import time\n",
    "import sys\n",
    "import os\n",
    "\n",
    "# Add src directory to path for importing utility functions\n",
    "sys.path.append('../src')"
   ]
  },
  {
   "cell_type": "markdown",
   "metadata": {},
   "source": [
    "## 1. NumPy Operations\n",
    "\n",
    "Demonstrating array creation, elementwise operations, and comparing loop vs vectorized execution."
   ]
  },
  {
   "cell_type": "code",
   "execution_count": 3,
   "metadata": {},
   "outputs": [
    {
     "name": "stdout",
     "output_type": "stream",
     "text": [
      "Original array: [ 1  2  3  4  5  6  7  8  9 10]\n",
      "Array shape: (10,)\n",
      "Array dtype: int64\n",
      "Squared: [  1   4   9  16  25  36  49  64  81 100]\n",
      "Doubled: [ 2  4  6  8 10 12 14 16 18 20]\n",
      "Natural log: [0.         0.69314718 1.09861229 1.38629436 1.60943791 1.79175947\n",
      " 1.94591015 2.07944154 2.19722458 2.30258509]\n",
      "\n",
      "Mean: 5.5\n",
      "SD: 2.8722813232690143\n",
      "Sum: 55\n",
      "Max: 10\n",
      "Min: 1\n"
     ]
    }
   ],
   "source": [
    "data = np.array([1, 2, 3, 4, 5, 6, 7, 8, 9, 10])\n",
    "print(f\"Original array: {data}\")\n",
    "print(f\"Array shape: {data.shape}\")\n",
    "print(f\"Array dtype: {data.dtype}\")\n",
    "\n",
    "squared = data ** 2\n",
    "doubled = data * 2\n",
    "log_data = np.log(data)\n",
    "\n",
    "print(f\"Squared: {squared}\")\n",
    "print(f\"Doubled: {doubled}\")\n",
    "print(f\"Natural log: {log_data}\")\n",
    "\n",
    "print(f\"\\nMean: {np.mean(data)}\")\n",
    "print(f\"SD: {np.std(data)}\")\n",
    "print(f\"Sum: {np.sum(data)}\")\n",
    "print(f\"Max: {np.max(data)}\")\n",
    "print(f\"Min: {np.min(data)}\")"
   ]
  },
  {
   "cell_type": "code",
   "execution_count": 5,
   "metadata": {},
   "outputs": [
    {
     "name": "stdout",
     "output_type": "stream",
     "text": [
      "Loop execution time: 0.032525s\n",
      "Vectorized execution time: 0.001000s\n"
     ]
    }
   ],
   "source": [
    "large_array = np.random.rand(100000)\n",
    "\n",
    "# Method 1: Using loop\n",
    "start_time = time.time()\n",
    "loop_result = []\n",
    "for i in range(len(large_array)):\n",
    "    loop_result.append(large_array[i] ** 2 + 2 * large_array[i])\n",
    "loop_result = np.array(loop_result)\n",
    "loop_time = time.time() - start_time\n",
    "\n",
    "# Method 2: Using vectorized operations\n",
    "start_time = time.time()\n",
    "vectorized_result = large_array ** 2 + 2 * large_array\n",
    "vectorized_time = time.time() - start_time\n",
    "\n",
    "# results\n",
    "print(f\"Loop execution time: {loop_time:.6f}s\")\n",
    "print(f\"Vectorized execution time: {vectorized_time:.6f}s\")"
   ]
  },
  {
   "cell_type": "markdown",
   "metadata": {},
   "source": [
    "## 2. Dataset Loading"
   ]
  },
  {
   "cell_type": "code",
   "execution_count": 7,
   "metadata": {},
   "outputs": [
    {
     "name": "stdout",
     "output_type": "stream",
     "text": [
      "Dataset shape: (10, 3)\n",
      "  category  value        date\n",
      "0        A     10  2025-08-01\n",
      "1        B     15  2025-08-02\n",
      "2        A     12  2025-08-03\n",
      "3        B     18  2025-08-04\n",
      "4        C     25  2025-08-05\n",
      "<class 'pandas.core.frame.DataFrame'>\n",
      "RangeIndex: 10 entries, 0 to 9\n",
      "Data columns (total 3 columns):\n",
      " #   Column    Non-Null Count  Dtype \n",
      "---  ------    --------------  ----- \n",
      " 0   category  10 non-null     object\n",
      " 1   value     10 non-null     int64 \n",
      " 2   date      10 non-null     object\n",
      "dtypes: int64(1), object(2)\n",
      "memory usage: 368.0+ bytes\n",
      "None\n"
     ]
    }
   ],
   "source": [
    "df = pd.read_csv('../starter_data.csv')\n",
    "\n",
    "print(f\"Dataset shape: {df.shape}\")\n",
    "print(df.head())\n",
    "print(df.info())"
   ]
  },
  {
   "cell_type": "markdown",
   "metadata": {},
   "source": [
    "## 3. Summary Statistics"
   ]
  },
  {
   "cell_type": "code",
   "execution_count": 8,
   "metadata": {},
   "outputs": [
    {
     "name": "stdout",
     "output_type": "stream",
     "text": [
      "           value\n",
      "count  10.000000\n",
      "mean   17.600000\n",
      "std     7.381659\n",
      "min    10.000000\n",
      "25%    12.250000\n",
      "50%    14.500000\n",
      "75%    23.250000\n",
      "max    30.000000\n"
     ]
    }
   ],
   "source": [
    "numeric_summary = df.describe()\n",
    "print(numeric_summary)"
   ]
  },
  {
   "cell_type": "code",
   "execution_count": 11,
   "metadata": {},
   "outputs": [
    {
     "name": "stdout",
     "output_type": "stream",
     "text": [
      "          count       mean  median       std  min  max  sum\n",
      "category                                                   \n",
      "A             4  11.500000    11.5  1.290994   10   13   46\n",
      "B             3  15.666667    15.0  2.081666   14   18   47\n",
      "C             3  27.666667    28.0  2.516611   25   30   83\n"
     ]
    }
   ],
   "source": [
    "category_stats = df.groupby('category')['value'].agg([\n",
    "    'count', 'mean', 'median', 'std', 'min', 'max', 'sum'\n",
    "])\n",
    "\n",
    "print(category_stats)"
   ]
  },
  {
   "cell_type": "markdown",
   "metadata": {},
   "source": [
    "## 4. Save Outputs"
   ]
  },
  {
   "cell_type": "code",
   "execution_count": null,
   "metadata": {},
   "outputs": [],
   "source": [
    "summary_data = {\n",
    "    'overall_stats': {\n",
    "        'total_records': len(df),\n",
    "        'mean_value': df['value'].mean(),\n",
    "        'median_value': df['value'].median(),\n",
    "        'std_value': df['value'].std(),\n",
    "        'min_value': df['value'].min(),\n",
    "        'max_value': df['value'].max(),\n",
    "        'total_sum': df['value'].sum()\n",
    "    },\n",
    "    'category_breakdown': category_stats.to_dict()\n",
    "}\n",
    "\n",
    "# Save to CSV\n",
    "category_stats.to_csv('../data/processed/summary.csv')"
   ]
  },
  {
   "cell_type": "markdown",
   "metadata": {},
   "source": [
    "## 5. Reusable Functions\n",
    "\n",
    "Creating utility functions for data analysis tasks."
   ]
  },
  {
   "cell_type": "code",
   "execution_count": 12,
   "metadata": {},
   "outputs": [],
   "source": [
    "# Define utility functions\n",
    "def get_summary_stats(df, numeric_col='value', group_col='category'):\n",
    "    overall_stats = {\n",
    "        'count': len(df),\n",
    "        'mean': df[numeric_col].mean(),\n",
    "        'median': df[numeric_col].median(),\n",
    "        'std': df[numeric_col].std(),\n",
    "        'min': df[numeric_col].min(),\n",
    "        'max': df[numeric_col].max(),\n",
    "        'sum': df[numeric_col].sum()\n",
    "    }\n",
    "    \n",
    "    grouped_stats = df.groupby(group_col)[numeric_col].agg([\n",
    "        'count', 'mean', 'median', 'std', 'min', 'max', 'sum'\n",
    "    ]).round(2)\n",
    "    \n",
    "    return {\n",
    "        'overall': overall_stats,\n",
    "        'by_group': grouped_stats\n",
    "    }"
   ]
  }
 ],
 "metadata": {
  "kernelspec": {
   "display_name": "bootcamp_env",
   "language": "python",
   "name": "python3"
  },
  "language_info": {
   "codemirror_mode": {
    "name": "ipython",
    "version": 3
   },
   "file_extension": ".py",
   "mimetype": "text/x-python",
   "name": "python",
   "nbconvert_exporter": "python",
   "pygments_lexer": "ipython3",
   "version": "3.10.18"
  }
 },
 "nbformat": 4,
 "nbformat_minor": 4
}
