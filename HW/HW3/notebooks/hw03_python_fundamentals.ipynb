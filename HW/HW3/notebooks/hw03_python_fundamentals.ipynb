{
 "cells": [
  {
   "cell_type": "markdown",
   "metadata": {},
   "source": [
    "# HW03: Python Fundamentals"
   ]
  },
  {
   "cell_type": "code",
   "execution_count": null,
   "metadata": {},
   "outputs": [],
   "source": [
    "import numpy as np\n",
    "import pandas as pd\n",
    "import matplotlib.pyplot as plt\n",
    "import time\n",
    "import sys\n",
    "import os\n",
    "\n",
    "sys.path.append('../src')"
   ]
  },
  {
   "cell_type": "markdown",
   "metadata": {},
   "source": [
    "## 1. NumPy Operations\n",
    "\n",
    "Demonstrating array creation, elementwise operations, and comparing loop vs vectorized execution."
   ]
  },
  {
   "cell_type": "code",
   "execution_count": null,
   "metadata": {},
   "outputs": [],
   "source": [
    "data = np.array([1, 2, 3, 4, 5, 6, 7, 8, 9, 10])\n",
    "print(f\"Original array: {data}\")\n",
    "print(f\"Array shape: {data.shape}\")\n",
    "print(f\"Array dtype: {data.dtype}\")\n",
    "\n",
    "squared = data ** 2\n",
    "doubled = data * 2\n",
    "log_data = np.log(data)\n",
    "\n",
    "print(f\"Squared: {squared}\")\n",
    "print(f\"Doubled: {doubled}\")\n",
    "print(f\"Natural log: {log_data}\")\n",
    "\n",
    "print(f\"\\nMean: {np.mean(data)}\")\n",
    "print(f\"SD: {np.std(data)}\")\n",
    "print(f\"Sum: {np.sum(data)}\")\n",
    "print(f\"Max: {np.max(data)}\")\n",
    "print(f\"Min: {np.min(data)}\")"
   ]
  },
  {
   "cell_type": "code",
   "execution_count": null,
   "metadata": {},
   "outputs": [],
   "source": [
    "large_array = np.random.rand(100000)\n",
    "\n",
    "start_time = time.time()\n",
    "loop_result = []\n",
    "for i in range(len(large_array)):\n",
    "    loop_result.append(large_array[i] ** 2 + 2 * large_array[i])\n",
    "loop_result = np.array(loop_result)\n",
    "loop_time = time.time() - start_time\n",
    "\n",
    "start_time = time.time()\n",
    "vectorized_result = large_array ** 2 + 2 * large_array\n",
    "vectorized_time = time.time() - start_time\n",
    "\n",
    "print(f\"Loop execution time: {loop_time:.6f}s\")\n",
    "print(f\"Vectorized execution time: {vectorized_time:.6f}s\")"
   ]
  },
  {
   "cell_type": "markdown",
   "metadata": {},
   "source": [
    "## 2. Dataset Loading"
   ]
  },
  {
   "cell_type": "code",
   "execution_count": null,
   "metadata": {},
   "outputs": [],
   "source": [
    "df = pd.read_csv('../starter_data.csv')\n",
    "\n",
    "print(f\"Dataset shape: {df.shape}\")\n",
    "print(df.head())\n",
    "print(df.info())"
   ]
  },
  {
   "cell_type": "markdown",
   "metadata": {},
   "source": [
    "## 3. Summary Statistics"
   ]
  },
  {
   "cell_type": "code",
   "execution_count": null,
   "metadata": {},
   "outputs": [],
   "source": [
    "numeric_summary = df.describe()\n",
    "print(numeric_summary)"
   ]
  },
  {
   "cell_type": "code",
   "execution_count": null,
   "metadata": {},
   "outputs": [],
   "source": [
    "market_stats = df.groupby('market')['gold_price'].agg([\n",
    "    'count', 'mean', 'median', 'std', 'min', 'max', 'sum'\n",
    "])\n",
    "\n",
    "print(market_stats)"
   ]
  },
  {
   "cell_type": "markdown",
   "metadata": {},
   "source": [
    "## 4. Save Outputs"
   ]
  },
  {
   "cell_type": "code",
   "execution_count": null,
   "metadata": {},
   "outputs": [],
   "source": [
    "summary_data = {\n",
    "    'overall_stats': {\n",
    "        'total_records': len(df),\n",
    "        'mean_gold_price': df['gold_price'].mean(),\n",
    "        'median_gold_price': df['gold_price'].median(),\n",
    "        'std_gold_price': df['gold_price'].std(),\n",
    "        'min_gold_price': df['gold_price'].min(),\n",
    "        'max_gold_price': df['gold_price'].max(),\n",
    "        'total_sum': df['gold_price'].sum()\n",
    "    },\n",
    "    'market_breakdown': market_stats.to_dict()\n",
    "}\n",
    "\n",
    "market_stats.to_csv('../data/processed/summary.csv')"
   ]
  },
  {
   "cell_type": "markdown",
   "metadata": {},
   "source": [
    "## 5. Reusable Functions\n",
    "\n",
    "Creating utility functions for data analysis tasks."
   ]
  },
  {
   "cell_type": "code",
   "execution_count": null,
   "metadata": {},
   "outputs": [],
   "source": [
    "def get_summary_stats(df, numeric_col='gold_price', group_col='market'):\n",
    "    overall_stats = {\n",
    "        'count': len(df),\n",
    "        'mean': df[numeric_col].mean(),\n",
    "        'median': df[numeric_col].median(),\n",
    "        'std': df[numeric_col].std(),\n",
    "        'min': df[numeric_col].min(),\n",
    "        'max': df[numeric_col].max(),\n",
    "        'sum': df[numeric_col].sum()\n",
    "    }\n",
    "    \n",
    "    grouped_stats = df.groupby(group_col)[numeric_col].agg([\n",
    "        'count', 'mean', 'median', 'std', 'min', 'max', 'sum'\n",
    "    ]).round(2)\n",
    "    \n",
    "    return {\n",
    "        'overall': overall_stats,\n",
    "        'by_group': grouped_stats\n",
    "    }"
   ]
  }
 ],
 "metadata": {
  "kernelspec": {
   "display_name": "Python 3",
   "language": "python",
   "name": "python3"
  },
  "language_info": {
   "name": "python",
   "version": "3.10"
  }
 },
 "nbformat": 4,
 "nbformat_minor": 5
}
