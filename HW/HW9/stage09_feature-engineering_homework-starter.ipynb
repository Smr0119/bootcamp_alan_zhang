{
 "cells": [
  {
   "cell_type": "markdown",
   "metadata": {},
   "source": [
    "# Stage 09 — Homework Starter Notebook\n",
    "\n",
    "In the lecture, we learned how to create engineered features. Now it's your turn to apply those ideas to your own project data."
   ]
  },
  {
   "cell_type": "code",
   "execution_count": null,
   "metadata": {},
   "outputs": [],
   "source": [
    "import pandas as pd\n",
    "import numpy as np\n",
    "\n",
    "np.random.seed(0)\n",
    "n = 100\n",
    "df = pd.DataFrame({\n",
    "    'gold_price': np.random.normal(2650, 80, n).astype(int),\n",
    "    'portfolio_value': np.random.normal(500000, 150000, n).astype(int),\n",
    "    'gold_allocation': np.random.normal(0.15, 0.05, n).clip(0.05, 0.30).round(3)\n",
    "})\n",
    "df.head()"
   ]
  },
  {
   "cell_type": "markdown",
   "metadata": {},
   "source": [
    "## Implement engineered features"
   ]
  },
  {
   "cell_type": "code",
   "execution_count": null,
   "metadata": {},
   "outputs": [],
   "source": [
    "df['price_volatility_ratio'] = df['gold_price'] / 2650\n",
    "df['allocation_value'] = df['portfolio_value'] * df['gold_allocation']"
   ]
  },
  {
   "cell_type": "markdown",
   "metadata": {},
   "source": [
    "### Rationale for Feature 1: price_volatility_ratio\n",
    "\n",
    "This ratio captures gold price deviation from baseline ($2650), normalizing current prices to identify relative volatility periods. This helps predict whether prices are in high or low volatility regimes."
   ]
  },
  {
   "cell_type": "code",
   "execution_count": null,
   "metadata": {},
   "outputs": [],
   "source": [
    "df['allocation_category'] = pd.cut(df['gold_allocation'], bins=[0, 0.10, 0.20, 0.30, 1.0], labels=['Low', 'Medium', 'High', 'Very High'])\n",
    "df['value_per_allocation'] = df['portfolio_value'] / df['gold_allocation']"
   ]
  },
  {
   "cell_type": "markdown",
   "metadata": {},
   "source": [
    "### Rationale for Features 2 & 3: allocation_category and value_per_allocation\n",
    "\n",
    "**allocation_category:** Converts continuous allocation percentages into categorical bins that align with investment strategies (Low/Medium/High/Very High). This captures threshold effects in portfolio management decisions.\n",
    "\n",
    "**value_per_allocation:** Normalizes portfolio value by gold allocation percentage to identify investors with large portfolios but conservative gold exposure. This feature helps segment investor risk profiles."
   ]
  }
 ],
 "metadata": {
  "kernelspec": {
   "display_name": "Python 3",
   "language": "python",
   "name": "python3"
  },
  "language_info": {
   "name": "python",
   "version": "3.10"
  }
 },
 "nbformat": 4,
 "nbformat_minor": 5
}
