{
 "cells": [
  {
   "cell_type": "markdown",
   "metadata": {},
   "source": [
    "# Stage 09 — Homework Starter Notebook\n",
    "\n",
    "In the lecture, we learned how to create engineered features. Now it’s your turn to apply those ideas to your own project data."
   ]
  },
  {
   "cell_type": "code",
   "execution_count": null,
   "metadata": {},
   "outputs": [],
   "source": [
    "import pandas as pd\n",
    "import numpy as np\n",
    "\n",
    "# Example synthetic data (replace with your project dataset)\n",
    "np.random.seed(0)\n",
    "n = 100\n",
    "df = pd.DataFrame({\n",
    "    'income': np.random.normal(60000, 15000, n).astype(int),\n",
    "    'monthly_spend': np.random.normal(2000, 600, n).astype(int),\n",
    "    'credit_score': np.random.normal(680, 50, n).astype(int)\n",
    "})\n",
    "df.head()"
   ]
  },
  {
   "cell_type": "markdown",
   "metadata": {},
   "source": [
    "## TODO: Implement at least 2 engineered features here"
   ]
  },
  {
   "cell_type": "code",
   "execution_count": null,
   "metadata": {},
   "outputs": [],
   "source": [
    "# Example template:\n",
    "df['spend_income_ratio'] = df['monthly_spend'] / df['income']  # TODO: Your feature\n",
    "# Add rationale in markdown below"
   ]
  },
  {
   "cell_type": "markdown",
   "metadata": {},
   "source": [
    "### Rationale for Feature 1: spend_income_ratio\n",
    "This ratio captures the proportion of income spent each month, which normalizes spending behavior across different income levels. From EDA, we observed strong correlation between income and spending, but the ratio reveals spending habits independent of absolute income amounts."
   ]
  },
  {
   "cell_type": "code",
   "execution_count": null,
   "metadata": {},
   "outputs": [],
   "source": [
    "df['credit_score_category'] = pd.cut(df['credit_score'], bins=[0, 600, 700, 800, 1000], labels=['Poor', 'Fair', 'Good', 'Excellent'])\n",
    "df['spend_per_point'] = df['monthly_spend'] / df['credit_score']"
   ]
  },
  {
   "cell_type": "markdown",
   "metadata": {},
   "source": [
    "### Rationale for Features 2 & 3: credit_score_category and spend_per_point\n",
    "**credit_score_category:** Converts continuous credit scores into categorical bins that align with industry standards (Poor/Fair/Good/Excellent). This captures non-linear relationships and threshold effects in credit behavior.\n",
    "\n",
    "**spend_per_point:** Normalizes spending by credit score to identify customers with disproportionate spending relative to creditworthiness. This feature helps identify high-risk or high-value customer segments."
   ]
  }
 ],
 "metadata": {
  "kernelspec": {
   "display_name": "Python 3",
   "language": "python",
   "name": "python3"
  },
  "language_info": {
   "name": "python",
   "version": "3.10"
  }
 },
 "nbformat": 4,
 "nbformat_minor": 5
}
