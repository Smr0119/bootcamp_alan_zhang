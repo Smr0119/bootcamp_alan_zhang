{
 "cells": [
  {
   "cell_type": "markdown",
   "metadata": {},
   "source": [
    "# Homework Starter — Stage 10a: Linear Regression\n",
    "\n",
    "Use this as a scaffold for gold price prediction modeling."
   ]
  },
  {
   "cell_type": "code",
   "execution_count": null,
   "metadata": {},
   "outputs": [],
   "source": [
    "import numpy as np\n",
    "import pandas as pd\n",
    "import matplotlib.pyplot as plt\n",
    "import seaborn as sns\n",
    "from sklearn.linear_model import LinearRegression\n",
    "from sklearn.metrics import r2_score, mean_squared_error\n",
    "from sklearn.model_selection import train_test_split\n",
    "import scipy.stats as st\n",
    "\n",
    "sns.set()\n",
    "np.random.seed(7)"
   ]
  },
  {
   "cell_type": "markdown",
   "metadata": {},
   "source": [
    "## 1) Gold Price Data\n",
    "Gold price prediction factors with quadratic effects."
   ]
  },
  {
   "cell_type": "code",
   "execution_count": null,
   "metadata": {},
   "outputs": [],
   "source": [
    "n = 200\n",
    "dates = pd.bdate_range(start=\"2024-02-01\", periods=n)\n",
    "inflation_rate = np.random.normal(3.2, 0.8, size=n)\n",
    "dollar_index = np.random.normal(102, 4, size=n)\n",
    "bond_yield = np.random.normal(4.5, 0.6, size=n)\n",
    "volatility = np.random.normal(0.25, 0.08, size=n)\n",
    "\n",
    "beta0, beta_inf, beta_dxy, beta_yield, beta_vol, beta_vol2 = 2400, 25, -8, -45, 180, 150\n",
    "noise_scale = 15 + 5*np.abs(inflation_rate)\n",
    "eps = np.random.normal(0, noise_scale)\n",
    "gold_price = (\n",
    "    beta0 + beta_inf*inflation_rate + beta_dxy*dollar_index + beta_yield*bond_yield + beta_vol*volatility\n",
    "    + beta_vol2*(volatility**2) + eps\n",
    ")\n",
    "\n",
    "df = pd.DataFrame({\n",
    "    'date': dates,\n",
    "    'inflation_rate': inflation_rate,\n",
    "    'dollar_index': dollar_index,\n",
    "    'bond_yield': bond_yield,\n",
    "    'volatility': volatility,\n",
    "    'gold_price': gold_price\n",
    "})\n",
    "df.head()"
   ]
  },
  {
   "cell_type": "markdown",
   "metadata": {},
   "source": [
    "## 2) Baseline model fit"
   ]
  },
  {
   "cell_type": "code",
   "execution_count": null,
   "metadata": {},
   "outputs": [],
   "source": [
    "X = df[['inflation_rate','dollar_index','bond_yield','volatility']]\n",
    "y = df['gold_price']\n",
    "X_train, X_test, y_train, y_test = train_test_split(X, y, test_size=0.2, shuffle=False)\n",
    "lr = LinearRegression().fit(X_train, y_train)\n",
    "y_pred = lr.predict(X_test)\n",
    "r2 = r2_score(y_test, y_pred)\n",
    "rmse = mean_squared_error(y_test, y_pred, squared=False)\n",
    "print(f'Baseline   R²={r2:.4f}  RMSE={rmse:.6f}')"
   ]
  },
  {
   "cell_type": "code",
   "execution_count": null,
   "metadata": {},
   "outputs": [],
   "source": [
    "resid = y_test - y_pred\n",
    "fitted = y_pred\n",
    "plt.figure(); plt.scatter(fitted, resid); plt.axhline(0, ls='--'); plt.title('Residuals vs Fitted'); plt.show()\n",
    "plt.figure(); plt.hist(resid, bins=20); plt.title('Residual Histogram'); plt.show()\n",
    "plt.figure(); st.probplot(resid, dist='norm', plot=plt); plt.title('QQ Plot'); plt.show()"
   ]
  },
  {
   "cell_type": "markdown",
   "metadata": {},
   "source": [
    "## 3) Add transformed feature"
   ]
  },
  {
   "cell_type": "code",
   "execution_count": null,
   "metadata": {},
   "outputs": [],
   "source": [
    "df['volatility_sq'] = df['volatility']**2\n",
    "X2 = df[['inflation_rate','dollar_index','bond_yield','volatility','volatility_sq']]\n",
    "X2_train, X2_test = X2.iloc[:len(X_train)], X2.iloc[len(X_train):]\n",
    "lr2 = LinearRegression().fit(X2_train, y_train)\n",
    "y_pred2 = lr2.predict(X2_test)\n",
    "r2_2 = r2_score(y_test, y_pred2)\n",
    "rmse_2 = mean_squared_error(y_test, y_pred2, squared=False)\n",
    "print(f'With x^2   R²={r2_2:.4f}  RMSE={rmse_2:.6f}')"
   ]
  },
  {
   "cell_type": "markdown",
   "metadata": {},
   "source": [
    "## 4) Interpretation\n",
    "\n",
    "- **Linearity:** Residuals vs fitted plot shows if relationship is linear. Random scatter around zero line means good fit.\n",
    "- **Homoscedasticity:** Equal spread of residuals across fitted values. Funnel shape means problem.\n",
    "- **Normality:** QQ plot and histogram check if residuals are normal. Straight line in QQ plot is good.\n",
    "- **Independence:** Time series data may have correlation between residuals.\n",
    "- **Which model do you trust:** Model with volatility squared term shows better R² and RMSE scores.\n",
    "- **Next step:** Check for more missing variables or try different model types."
   ]
  }
 ],
 "metadata": {
  "kernelspec": {
   "display_name": "Python 3",
   "language": "python",
   "name": "python3"
  },
  "language_info": {
   "name": "python",
   "version": "3.10"
  }
 },
 "nbformat": 4,
 "nbformat_minor": 5
}
