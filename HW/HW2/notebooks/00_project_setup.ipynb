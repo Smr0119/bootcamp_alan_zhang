{
 "cells": [
  {
   "cell_type": "markdown",
   "metadata": {},
   "source": [
    "# Environment & Config Check"
   ]
  },
  {
   "cell_type": "code",
   "execution_count": null,
   "metadata": {},
   "outputs": [],
   "source": [
    "import sys\n",
    "import os\n",
    "sys.path.append('../src')\n",
    "\n",
    "from dotenv import load_dotenv\n",
    "from config import get_api_key, get_data_dir\n",
    "import numpy as np"
   ]
  },
  {
   "cell_type": "code",
   "execution_count": null,
   "metadata": {},
   "outputs": [],
   "source": [
    "load_dotenv()\n",
    "\n",
    "api_key = get_api_key()\n",
    "if api_key:\n",
    "    print(f\"API_KEY present: True\")\n",
    "    print(f\"API_KEY value: {api_key}\")\n",
    "else:\n",
    "    print(\"API_KEY present: False\")\n",
    "\n",
    "data_dir = get_data_dir()\n",
    "if data_dir:\n",
    "    print(f\"DATA_DIR present: True\")\n",
    "    print(f\"DATA_DIR value: {data_dir}\")\n",
    "else:\n",
    "    print(\"DATA_DIR present: False\")"
   ]
  },
  {
   "cell_type": "code",
   "execution_count": null,
   "metadata": {},
   "outputs": [],
   "source": [
    "# array ops\n",
    "test_array = np.array([1, 2, 3, 4, 5])\n",
    "print(f\"Test array: {test_array}\")\n",
    "print(f\"Array mean: {np.mean(test_array)}\")\n",
    "print(f\"Array sum: {np.sum(test_array)}\")"
   ]
  }
 ],
 "metadata": {
  "kernelspec": {
   "display_name": "Python 3",
   "language": "python",
   "name": "python3"
  },
  "language_info": {
   "codemirror_mode": {
    "name": "ipython",
    "version": 3
   },
   "file_extension": ".py",
   "mimetype": "text/x-python",
   "name": "python",
   "nbconvert_exporter": "python",
   "pygments_lexer": "ipython3",
   "version": "3.11.0"
  }
 },
 "nbformat": 4,
 "nbformat_minor": 4
}
