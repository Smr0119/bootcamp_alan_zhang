{
 "cells": [
  {
   "cell_type": "markdown",
   "metadata": {},
   "source": [
    "# Setup: Generate Sample Dataset\n",
    "\n",
    "This cell creates the required folder structure (`data/raw/` and `data/processed/`) relative to the notebook, and generates the sample CSV dataset with missing values. \n",
    "\n",
    "This ensures the dataset is ready for cleaning functions and saves it to `data/raw/sample_data.csv`."
   ]
  },
  {
   "cell_type": "code",
   "execution_count": null,
   "metadata": {},
   "outputs": [],
   "source": [
    "import os\n",
    "import pandas as pd\n",
    "import numpy as np\n",
    "\n",
    "raw_dir = '../data/raw'\n",
    "processed_dir = '../data/processed'\n",
    "\n",
    "os.makedirs(raw_dir, exist_ok=True)\n",
    "os.makedirs(processed_dir, exist_ok=True)\n",
    "\n",
    "data = {\n",
    "    'gold_price': [2650.30, 2645.80, np.nan, 2672.10, 2668.50, np.nan, 2655.90],\n",
    "    'volume': [15000, np.nan, 12800, 18500, np.nan, np.nan, 14200],\n",
    "    'volatility': [0.025, 0.032, np.nan, 0.019, 0.028, 0.021, 0.024],\n",
    "    'market': ['COMEX', 'LBMA', 'COMEX', 'LBMA', 'COMEX', 'LBMA', 'COMEX'],\n",
    "    'currency': ['USD', 'USD', 'USD', 'USD', 'USD', 'USD', 'USD'],\n",
    "    'extra_data': [np.nan, 42, np.nan, np.nan, np.nan, 5, np.nan]\n",
    "}\n",
    "\n",
    "df = pd.DataFrame(data)\n",
    "\n",
    "csv_path = os.path.join(raw_dir, 'sample_data.csv')\n",
    "if not os.path.exists(csv_path):\n",
    "    df.to_csv(csv_path, index=False)\n",
    "    print(f'Sample dataset created and saved to {csv_path}')\n",
    "else:\n",
    "    print(f'File already exists at {csv_path}. Skipping CSV creation to avoid overwrite.')"
   ]
  },
  {
   "cell_type": "markdown",
   "metadata": {},
   "source": [
    "# Homework Starter — Stage 6: Data Preprocessing\n",
    "Use this notebook to apply your cleaning functions and save processed data."
   ]
  },
  {
   "cell_type": "code",
   "execution_count": null,
   "metadata": {},
   "outputs": [],
   "source": [
    "import pandas as pd\n",
    "from src import cleaning"
   ]
  },
  {
   "cell_type": "markdown",
   "metadata": {},
   "source": [
    "## Load Raw Dataset"
   ]
  },
  {
   "cell_type": "code",
   "execution_count": null,
   "metadata": {},
   "outputs": [],
   "source": [
    "df = pd.read_csv('D:/School/5/Bootcamp/HW/HW6/data/raw/sample_data.csv')\n",
    "df.head()"
   ]
  },
  {
   "cell_type": "markdown",
   "metadata": {},
   "source": [
    "## Apply Cleaning Functions"
   ]
  },
  {
   "cell_type": "code",
   "execution_count": null,
   "metadata": {},
   "outputs": [],
   "source": [
    "print(\"Original data shape:\", df.shape)\n",
    "print(\"Missing values per column:\")\n",
    "print(df.isnull().sum())\n",
    "print()\n",
    "\n",
    "df_cleaned = cleaning.fill_missing_median(df, ['gold_price', 'volume', 'volatility'])\n",
    "df_cleaned = cleaning.drop_missing(df_cleaned, threshold=0.5)\n",
    "df_cleaned = cleaning.normalize_data(df_cleaned, ['gold_price', 'volume', 'volatility'])\n",
    "\n",
    "print(\"Cleaned data shape:\", df_cleaned.shape)\n",
    "print(\"Missing values per column after cleaning:\")\n",
    "print(df_cleaned.isnull().sum())\n",
    "df_cleaned.head()"
   ]
  },
  {
   "cell_type": "markdown",
   "metadata": {},
   "source": [
    "## Save Cleaned Dataset"
   ]
  },
  {
   "cell_type": "code",
   "execution_count": null,
   "metadata": {},
   "outputs": [],
   "source": [
    "df_cleaned.to_csv('D:/School/5/Bootcamp/HW/HW6/data/processed/sample_data_cleaned.csv', index=False)\n",
    "print('Cleaned dataset saved to ../data/processed/sample_data_cleaned.csv')"
   ]
  }
 ],
 "metadata": {
  "kernelspec": {
   "display_name": "Python 3",
   "language": "python",
   "name": "python3"
  },
  "language_info": {
   "name": "python",
   "version": "3.10"
  }
 },
 "nbformat": 4,
 "nbformat_minor": 5
}
