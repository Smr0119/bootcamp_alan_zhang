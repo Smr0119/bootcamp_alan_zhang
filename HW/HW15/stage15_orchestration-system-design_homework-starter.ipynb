{
"cells": [
{
"cell_type": "markdown",
"metadata": {},
"source": [
"# Homework Starter — Stage 15: Orchestration & System Design\n",
"Complete the sections below. Keep your answers concise and focused on orchestration readiness."
]
},
{
"cell_type": "markdown",
"metadata": {},
"source": [
"## 1) Project Task Decomposition\n",
"List 4–8 tasks. Add more rows as needed."
]
},
{
"cell_type": "code",
"execution_count": null,
"metadata": {},
"outputs": [],
"source": [
"from pathlib import Path\n",
"import pandas as pd\n",
"tasks = pd.DataFrame({\n",
"    'task': ['ingest', 'clean', 'feature_eng', 'train', 'evaluate', 'report'],\n",
"    'inputs': ['raw_data.csv', 'raw_data.csv', 'clean_data.csv', 'features.csv', 'model.pkl', 'results.json'],\n",
"    'outputs': ['raw_data.csv', 'clean_data.csv', 'features.csv', 'model.pkl', 'results.json', 'report.pdf'],\n",
"    'idempotent': [True, True, True, False, True, True]\n",
"})\n",
"tasks"
]
},
{
"cell_type": "markdown",
"metadata": {},
"source": [
"## 2) Dependencies (DAG)\n",
"Describe dependencies and paste a small diagram if you have one."
]
},
{
"cell_type": "code",
"execution_count": null,
"metadata": {},
"outputs": [],
"source": [
"dag = {\n",
"    'ingest': [],\n",
"    'clean': ['ingest'],\n",
"    'feature_eng': ['clean'],\n",
"    'train': ['feature_eng'],\n",
"    'evaluate': ['train'],\n",
"    'report': ['evaluate']\n",
"}\n",
"dag"
]
},
{
"cell_type": "markdown",
"metadata": {},
"source": [
"Linear pipeline: ingest → clean → feature_eng → train → evaluate → report\n",
"No parallel tasks. Each step depends on the previous one."
]
},
{
"cell_type": "markdown",
"metadata": {},
"source": [
"## 3) Logging & Checkpoints Plan\n",
"Specify what you will log and where you will checkpoint for each task."
]
},
{
"cell_type": "code",
"execution_count": null,
"metadata": {},
"outputs": [],
"source": [
"logging_plan = pd.DataFrame({\n",
"    'task': ['ingest', 'clean', 'feature_eng', 'train', 'evaluate', 'report'],\n",
"    'log_messages': [\n",
"        'start/end, rows loaded, source path',\n",
"        'start/end, rows before/after cleaning',\n",
"        'start/end, features created, output shape',\n",
"        'start/end, model type, training time',\n",
"        'start/end, metrics computed',\n",
"        'start/end, report generated'\n",
"    ],\n",
"    'checkpoint_artifact': [\n",
"        'raw_data.csv',\n",
"        'clean_data.csv',\n",
"        'features.csv',\n",
"        'model.pkl',\n",
"        'results.json',\n",
"        'report.pdf'\n",
"    ]\n",
"})\n",
"logging_plan"
]
},
{
"cell_type": "markdown",
"metadata": {},
"source": [
"## 4) Right-Sizing Automation\n",
"Which parts will you automate now? Which stay manual? Why?"
]
},
{
"cell_type": "markdown",
"metadata": {},
"source": [
"Automate now: ingest, clean, feature_eng. These are repeatable data steps.\n",
"\n",
"Keep manual: train, evaluate, report. Training needs parameter tuning. Evaluation needs human review. Reports need custom analysis.\n",
"\n",
"Reason: Start with stable data pipeline first. Add model automation later when requirements are clear."
]
},
{
"cell_type": "markdown",
"metadata": {},
"source": [
"## 5) (Stretch) Refactor One Task into a Function + CLI\n",
"Use the templates below."
]
},
{
"cell_type": "code",
"execution_count": null,
"metadata": {},
"outputs": [],
"source": [
"import argparse, json, logging, sys\n",
"from datetime import datetime\n",
"import pandas as pd\n",
"\n",
"def clean_data(input_path: str, output_path: str) -> None:\n",
"    logging.info('[clean_data] start')\n",
"    df = pd.read_csv(input_path)\n",
"    initial_rows = len(df)\n",
"    df_clean = df.dropna()\n",
"    final_rows = len(df_clean)\n",
"    df_clean.to_csv(output_path, index=False)\n",
"    logging.info('[clean_data] %d -> %d rows, wrote %s', initial_rows, final_rows, output_path)\n",
"\n",
"def main(argv=None):\n",
"    parser = argparse.ArgumentParser(description='Clean data task')\n",
"    parser.add_argument('--input', required=True)\n",
"    parser.add_argument('--output', required=True)\n",
"    args = parser.parse_args(argv)\n",
"    logging.basicConfig(level=logging.INFO, handlers=[logging.StreamHandler(sys.stdout)])\n",
"    clean_data(args.input, args.output)\n",
"\n",
"if __name__ == '__main__':\n",
"    main(['--input', 'data/raw.csv', '--output', 'data/clean.csv'])"
]
},
{
"cell_type": "markdown",
"metadata": {},
"source": [
"### Optional: Simple Retry Wrapper (fill in)\n",
"Add a small retry with linear backoff to harden a task."
]
},
{
"cell_type": "code",
"execution_count": null,
"metadata": {},
"outputs": [],
"source": [
"import time\n",
"def retry(n_tries=3, delay=0.2):\n",
"    def wrapper(fn, *args, **kwargs):\n",
"        for attempt in range(n_tries):\n",
"            try:\n",
"                return fn(*args, **kwargs)\n",
"            except Exception as e:\n",
"                if attempt == n_tries - 1:\n",
"                    raise e\n",
"                time.sleep(delay * (attempt + 1))\n",
"        return fn(*args, **kwargs)\n",
"    return wrapper"
]
}
],
"metadata": {
"kernelspec": {
"display_name": "Python 3",
"language": "python",
"name": "python3"
},
"language_info": {
"name": "python",
"version": "3.10"
}
},
"nbformat": 4,
"nbformat_minor": 5
}
