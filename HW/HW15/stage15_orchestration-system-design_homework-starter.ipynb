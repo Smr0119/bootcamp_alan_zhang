{
 "cells": [
  {
   "cell_type": "markdown",
   "metadata": {},
   "source": [
    "# Homework Starter — Stage 15: Orchestration & System Design\n",
    "Complete the sections below. Keep your answers concise and focused on orchestration readiness."
   ]
  },
  {
   "cell_type": "markdown",
   "metadata": {},
   "source": [
    "## 1) Project Task Decomposition\n",
    "List 4–8 tasks. Add more rows as needed."
   ]
  },
  {
   "cell_type": "code",
   "execution_count": 9,
   "metadata": {},
   "outputs": [
    {
     "data": {
      "text/html": [
       "<div>\n",
       "<style scoped>\n",
       "    .dataframe tbody tr th:only-of-type {\n",
       "        vertical-align: middle;\n",
       "    }\n",
       "\n",
       "    .dataframe tbody tr th {\n",
       "        vertical-align: top;\n",
       "    }\n",
       "\n",
       "    .dataframe thead th {\n",
       "        text-align: right;\n",
       "    }\n",
       "</style>\n",
       "<table border=\"1\" class=\"dataframe\">\n",
       "  <thead>\n",
       "    <tr style=\"text-align: right;\">\n",
       "      <th></th>\n",
       "      <th>task</th>\n",
       "      <th>inputs</th>\n",
       "      <th>outputs</th>\n",
       "      <th>idempotent</th>\n",
       "    </tr>\n",
       "  </thead>\n",
       "  <tbody>\n",
       "    <tr>\n",
       "      <th>0</th>\n",
       "      <td>ingest</td>\n",
       "      <td>raw_data.csv</td>\n",
       "      <td>raw_data.csv</td>\n",
       "      <td>True</td>\n",
       "    </tr>\n",
       "    <tr>\n",
       "      <th>1</th>\n",
       "      <td>clean</td>\n",
       "      <td>raw_data.csv</td>\n",
       "      <td>clean_data.csv</td>\n",
       "      <td>True</td>\n",
       "    </tr>\n",
       "    <tr>\n",
       "      <th>2</th>\n",
       "      <td>feature_eng</td>\n",
       "      <td>clean_data.csv</td>\n",
       "      <td>features.csv</td>\n",
       "      <td>True</td>\n",
       "    </tr>\n",
       "    <tr>\n",
       "      <th>3</th>\n",
       "      <td>train</td>\n",
       "      <td>features.csv</td>\n",
       "      <td>model.pkl</td>\n",
       "      <td>False</td>\n",
       "    </tr>\n",
       "    <tr>\n",
       "      <th>4</th>\n",
       "      <td>evaluate</td>\n",
       "      <td>model.pkl</td>\n",
       "      <td>results.json</td>\n",
       "      <td>True</td>\n",
       "    </tr>\n",
       "    <tr>\n",
       "      <th>5</th>\n",
       "      <td>report</td>\n",
       "      <td>results.json</td>\n",
       "      <td>report.pdf</td>\n",
       "      <td>True</td>\n",
       "    </tr>\n",
       "  </tbody>\n",
       "</table>\n",
       "</div>"
      ],
      "text/plain": [
       "          task          inputs         outputs  idempotent\n",
       "0       ingest    raw_data.csv    raw_data.csv        True\n",
       "1        clean    raw_data.csv  clean_data.csv        True\n",
       "2  feature_eng  clean_data.csv    features.csv        True\n",
       "3        train    features.csv       model.pkl       False\n",
       "4     evaluate       model.pkl    results.json        True\n",
       "5       report    results.json      report.pdf        True"
      ]
     },
     "execution_count": 9,
     "metadata": {},
     "output_type": "execute_result"
    }
   ],
   "source": [
    "from pathlib import Path\n",
    "import pandas as pd\n",
    "tasks = pd.DataFrame({\n",
    "    'task': ['ingest', 'clean', 'feature_eng', 'train', 'evaluate', 'report'],\n",
    "    'inputs': ['raw_data.csv', 'raw_data.csv', 'clean_data.csv', 'features.csv', 'model.pkl', 'results.json'],\n",
    "    'outputs': ['raw_data.csv', 'clean_data.csv', 'features.csv', 'model.pkl', 'results.json', 'report.pdf'],\n",
    "    'idempotent': [True, True, True, False, True, True]\n",
    "})\n",
    "tasks"
   ]
  },
  {
   "cell_type": "markdown",
   "metadata": {},
   "source": [
    "## 2) Dependencies (DAG)\n",
    "Describe dependencies and paste a small diagram if you have one."
   ]
  },
  {
   "cell_type": "code",
   "execution_count": 10,
   "metadata": {},
   "outputs": [
    {
     "data": {
      "text/plain": [
       "{'ingest': [],\n",
       " 'clean': ['ingest'],\n",
       " 'feature_eng': ['clean'],\n",
       " 'train': ['feature_eng'],\n",
       " 'evaluate': ['train'],\n",
       " 'report': ['evaluate']}"
      ]
     },
     "execution_count": 10,
     "metadata": {},
     "output_type": "execute_result"
    }
   ],
   "source": [
    "dag = {\n",
    "    'ingest': [],\n",
    "    'clean': ['ingest'],\n",
    "    'feature_eng': ['clean'],\n",
    "    'train': ['feature_eng'],\n",
    "    'evaluate': ['train'],\n",
    "    'report': ['evaluate']\n",
    "}\n",
    "dag"
   ]
  },
  {
   "cell_type": "markdown",
   "metadata": {},
   "source": [
    "Linear pipeline: ingest → clean → feature_eng → train → evaluate → report\n",
    "No parallel tasks. Each step depends on the previous one."
   ]
  },
  {
   "cell_type": "markdown",
   "metadata": {},
   "source": [
    "## 3) Logging & Checkpoints Plan\n",
    "Specify what you will log and where you will checkpoint for each task."
   ]
  },
  {
   "cell_type": "code",
   "execution_count": 11,
   "metadata": {},
   "outputs": [
    {
     "data": {
      "text/html": [
       "<div>\n",
       "<style scoped>\n",
       "    .dataframe tbody tr th:only-of-type {\n",
       "        vertical-align: middle;\n",
       "    }\n",
       "\n",
       "    .dataframe tbody tr th {\n",
       "        vertical-align: top;\n",
       "    }\n",
       "\n",
       "    .dataframe thead th {\n",
       "        text-align: right;\n",
       "    }\n",
       "</style>\n",
       "<table border=\"1\" class=\"dataframe\">\n",
       "  <thead>\n",
       "    <tr style=\"text-align: right;\">\n",
       "      <th></th>\n",
       "      <th>task</th>\n",
       "      <th>log_messages</th>\n",
       "      <th>checkpoint_artifact</th>\n",
       "    </tr>\n",
       "  </thead>\n",
       "  <tbody>\n",
       "    <tr>\n",
       "      <th>0</th>\n",
       "      <td>ingest</td>\n",
       "      <td>start/end, rows loaded, source path</td>\n",
       "      <td>raw_data.csv</td>\n",
       "    </tr>\n",
       "    <tr>\n",
       "      <th>1</th>\n",
       "      <td>clean</td>\n",
       "      <td>start/end, rows before/after cleaning</td>\n",
       "      <td>clean_data.csv</td>\n",
       "    </tr>\n",
       "    <tr>\n",
       "      <th>2</th>\n",
       "      <td>feature_eng</td>\n",
       "      <td>start/end, features created, output shape</td>\n",
       "      <td>features.csv</td>\n",
       "    </tr>\n",
       "    <tr>\n",
       "      <th>3</th>\n",
       "      <td>train</td>\n",
       "      <td>start/end, model type, training time</td>\n",
       "      <td>model.pkl</td>\n",
       "    </tr>\n",
       "    <tr>\n",
       "      <th>4</th>\n",
       "      <td>evaluate</td>\n",
       "      <td>start/end, metrics computed</td>\n",
       "      <td>results.json</td>\n",
       "    </tr>\n",
       "    <tr>\n",
       "      <th>5</th>\n",
       "      <td>report</td>\n",
       "      <td>start/end, report generated</td>\n",
       "      <td>report.pdf</td>\n",
       "    </tr>\n",
       "  </tbody>\n",
       "</table>\n",
       "</div>"
      ],
      "text/plain": [
       "          task                               log_messages checkpoint_artifact\n",
       "0       ingest        start/end, rows loaded, source path        raw_data.csv\n",
       "1        clean      start/end, rows before/after cleaning      clean_data.csv\n",
       "2  feature_eng  start/end, features created, output shape        features.csv\n",
       "3        train       start/end, model type, training time           model.pkl\n",
       "4     evaluate                start/end, metrics computed        results.json\n",
       "5       report                start/end, report generated          report.pdf"
      ]
     },
     "execution_count": 11,
     "metadata": {},
     "output_type": "execute_result"
    }
   ],
   "source": [
    "logging_plan = pd.DataFrame({\n",
    "    'task': ['ingest', 'clean', 'feature_eng', 'train', 'evaluate', 'report'],\n",
    "    'log_messages': [\n",
    "        'start/end, rows loaded, source path',\n",
    "        'start/end, rows before/after cleaning',\n",
    "        'start/end, features created, output shape',\n",
    "        'start/end, model type, training time',\n",
    "        'start/end, metrics computed',\n",
    "        'start/end, report generated'\n",
    "    ],\n",
    "    'checkpoint_artifact': [\n",
    "        'raw_data.csv',\n",
    "        'clean_data.csv',\n",
    "        'features.csv',\n",
    "        'model.pkl',\n",
    "        'results.json',\n",
    "        'report.pdf'\n",
    "    ]\n",
    "})\n",
    "logging_plan"
   ]
  },
  {
   "cell_type": "markdown",
   "metadata": {},
   "source": [
    "## 4) Right-Sizing Automation\n",
    "Which parts will you automate now? Which stay manual? Why?"
   ]
  },
  {
   "cell_type": "markdown",
   "metadata": {},
   "source": [
    "Automate now: ingest, clean, feature_eng. These are repeatable data steps.\n",
    "\n",
    "Keep manual: train, evaluate, report. Training needs parameter tuning. Evaluation needs human review. Reports need custom analysis.\n",
    "\n",
    "Reason: Start with stable data pipeline first. Add model automation later when requirements are clear."
   ]
  },
  {
   "cell_type": "markdown",
   "metadata": {},
   "source": [
    "## 5) (Stretch) Refactor One Task into a Function + CLI\n",
    "Use the templates below."
   ]
  },
  {
   "cell_type": "code",
   "execution_count": 12,
   "metadata": {},
   "outputs": [
    {
     "name": "stdout",
     "output_type": "stream",
     "text": [
      "INFO:root:[clean_data] start\n",
      "INFO:root:[clean_data] 10 -> 10 rows, wrote data/clean.csv\n"
     ]
    }
   ],
   "source": [
    "import argparse, json, logging, sys\n",
    "from datetime import datetime\n",
    "import pandas as pd\n",
    "\n",
    "def clean_data(input_path: str, output_path: str) -> None:\n",
    "    logging.info('[clean_data] start')\n",
    "    df = pd.read_csv(input_path)\n",
    "    initial_rows = len(df)\n",
    "    df_clean = df.dropna()\n",
    "    final_rows = len(df_clean)\n",
    "    df_clean.to_csv(output_path, index=False)\n",
    "    logging.info('[clean_data] %d -> %d rows, wrote %s', initial_rows, final_rows, output_path)\n",
    "\n",
    "def main(argv=None):\n",
    "    parser = argparse.ArgumentParser(description='Clean data task')\n",
    "    parser.add_argument('--input', required=True)\n",
    "    parser.add_argument('--output', required=True)\n",
    "    args = parser.parse_args(argv)\n",
    "    logging.basicConfig(level=logging.INFO, handlers=[logging.StreamHandler(sys.stdout)])\n",
    "    clean_data(args.input, args.output)\n",
    "\n",
    "if __name__ == '__main__':\n",
    "    main(['--input', 'data/raw.csv', '--output', 'data/clean.csv'])"
   ]
  },
  {
   "cell_type": "markdown",
   "metadata": {},
   "source": [
    "### Optional: Simple Retry Wrapper (fill in)\n",
    "Add a small retry with linear backoff to harden a task."
   ]
  },
  {
   "cell_type": "code",
   "execution_count": 13,
   "metadata": {},
   "outputs": [],
   "source": [
    "import time\n",
    "def retry(n_tries=3, delay=0.2):\n",
    "    def wrapper(fn, *args, **kwargs):\n",
    "        for attempt in range(n_tries):\n",
    "            try:\n",
    "                return fn(*args, **kwargs)\n",
    "            except Exception as e:\n",
    "                if attempt == n_tries - 1:\n",
    "                    raise e\n",
    "                time.sleep(delay * (attempt + 1))\n",
    "        return fn(*args, **kwargs)\n",
    "    return wrapper"
   ]
  }
 ],
 "metadata": {
  "kernelspec": {
   "display_name": "bootcamp_env",
   "language": "python",
   "name": "python3"
  },
  "language_info": {
   "codemirror_mode": {
    "name": "ipython",
    "version": 3
   },
   "file_extension": ".py",
   "mimetype": "text/x-python",
   "name": "python",
   "nbconvert_exporter": "python",
   "pygments_lexer": "ipython3",
   "version": "3.10.18"
  }
 },
 "nbformat": 4,
 "nbformat_minor": 5
}
