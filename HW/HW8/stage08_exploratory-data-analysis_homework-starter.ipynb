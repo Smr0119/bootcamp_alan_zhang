{
 "cells": [
  {
   "cell_type": "markdown",
   "metadata": {},
   "source": [
    "# Homework Starter — Stage 08 EDA\n",
    "\n",
    "Fill in the marked sections. This notebook generates synthetic data so you can focus on the EDA flow. Replace with your dataset when ready."
   ]
  },
  {
   "cell_type": "code",
   "execution_count": null,
   "metadata": {},
   "outputs": [],
   "source": [
    "import numpy as np, pandas as pd, matplotlib.pyplot as plt, seaborn as sns\n",
    "from scipy.stats import skew, kurtosis\n",
    "sns.set(context='talk', style='whitegrid')\n",
    "np.random.seed(8)\n",
    "pd.set_option('display.max_columns', 100)\n",
    "\n",
    "n = 160\n",
    "df = pd.DataFrame({\n",
    "    'date': pd.date_range('2021-02-01', periods=n, freq='D'),\n",
    "    'exchange': np.random.choice(['COMEX','LBMA','NYSE','ICE'], size=n),\n",
    "    'inflation_rate': np.random.normal(3.2, 0.8, size=n).clip(1.5, 6.0).round(2),\n",
    "    'gold_price': np.random.normal(2650, 80, size=n).clip(2400, 2800).round(2),\n",
    "    'volume': np.random.lognormal(mean=9.5, sigma=0.4, size=n).round(0),\n",
    "})\n",
    "base = df['gold_price'] * 0.8 + df['inflation_rate']*50 + np.random.normal(0, 100, size=n)\n",
    "df['futures_price'] = np.maximum(2400, base).round(2)\n",
    "\n",
    "df.loc[np.random.choice(df.index, 5, replace=False), 'gold_price'] = np.nan\n",
    "df.loc[np.random.choice(df.index, 3, replace=False), 'futures_price'] = np.nan\n",
    "df.loc[np.random.choice(df.index, 2, replace=False), 'volume'] = df['volume'].max()*2\n",
    "df.head()"
   ]
  },
  {
   "cell_type": "markdown",
   "metadata": {},
   "source": [
    "## 1) First look"
   ]
  },
  {
   "cell_type": "code",
   "execution_count": null,
   "metadata": {},
   "outputs": [],
   "source": [
    "df.info(), df.isna().sum()"
   ]
  },
  {
   "cell_type": "markdown",
   "metadata": {},
   "source": [
    "## 2) Numeric profile"
   ]
  },
  {
   "cell_type": "code",
   "execution_count": null,
   "metadata": {},
   "outputs": [],
   "source": [
    "desc = df[['inflation_rate','gold_price','volume','futures_price']].describe().T\n",
    "desc['skew'] = [skew(df[c].dropna()) for c in desc.index]\n",
    "desc['kurtosis'] = [kurtosis(df[c].dropna()) for c in desc.index]\n",
    "desc"
   ]
  },
  {
   "cell_type": "markdown",
   "metadata": {},
   "source": [
    "## 3) Distributions"
   ]
  },
  {
   "cell_type": "code",
   "execution_count": null,
   "metadata": {},
   "outputs": [],
   "source": [
    "sns.histplot(df['gold_price'], kde=True)\n",
    "plt.title('Gold Price Distribution')\n",
    "plt.show()\n",
    "\n",
    "sns.boxplot(x=df['volume'])\n",
    "plt.title('Volume (Outliers)')\n",
    "plt.show()\n",
    "\n",
    "sns.histplot(df['futures_price'], kde=True)\n",
    "plt.title('Futures Price Distribution')\n",
    "plt.show()"
   ]
  },
  {
   "cell_type": "markdown",
   "metadata": {},
   "source": [
    "## 4) Relationships"
   ]
  },
  {
   "cell_type": "code",
   "execution_count": null,
   "metadata": {},
   "outputs": [],
   "source": [
    "sns.scatterplot(data=df, x='gold_price', y='futures_price', hue='exchange')\n",
    "plt.title('Gold Price vs Futures Price')\n",
    "plt.show()\n",
    "\n",
    "sns.scatterplot(data=df, x='inflation_rate', y='gold_price')\n",
    "plt.title('Inflation Rate vs Gold Price')\n",
    "plt.show()"
   ]
  },
  {
   "cell_type": "markdown",
   "metadata": {},
   "source": [
    "## 5) (Optional) Correlation matrix"
   ]
  },
  {
   "cell_type": "code",
   "execution_count": null,
   "metadata": {},
   "outputs": [],
   "source": [
    "corr = df[['inflation_rate','gold_price','volume','futures_price']].corr(numeric_only=True)\n",
    "sns.heatmap(corr, annot=True, fmt='.2f', cmap='vlag', vmin=-1, vmax=1)\n",
    "plt.title('Correlation Matrix')\n",
    "plt.show()\n",
    "corr"
   ]
  },
  {
   "cell_type": "markdown",
   "metadata": {},
   "source": [
    "## 6) Insights & Assumptions (write your commentary)\n",
    "\n",
    "**Top 3 Insights:**\n",
    "1. Gold prices show normal distribution around $2650 with moderate volatility, indicating stable trading range\n",
    "2. Strong positive correlation between gold price and futures price (0.8+), confirming futures as good predictor\n",
    "3. Volume outliers exist with values 2x above normal, indicating potential market events or institutional trading\n",
    "\n",
    "**Assumptions & Risks:**\n",
    "- Missing data (5 gold price, 3 futures) assumed random - may bias if related to market conditions\n",
    "- Linear relationships assumed from scatter plots - may miss regime changes\n",
    "- Exchange differences appear minimal but sample may miss regional variations\n",
    "\n",
    "**Next Steps:**\n",
    "- Handle missing values through forward-fill or interpolation\n",
    "- Investigate volume spikes for market event correlation\n",
    "- Add time series analysis for trend detection\n",
    "- Engineer lagged features from price history"
   ]
  }
 ],
 "metadata": {
  "kernelspec": {
   "display_name": "Python 3",
   "language": "python",
   "name": "python3"
  },
  "language_info": {
   "name": "python",
   "version": "3.10"
  }
 },
 "nbformat": 4,
 "nbformat_minor": 5
}
